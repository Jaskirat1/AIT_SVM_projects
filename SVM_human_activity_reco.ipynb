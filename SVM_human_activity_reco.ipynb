{
  "nbformat": 4,
  "nbformat_minor": 0,
  "metadata": {
    "colab": {
      "provenance": [],
      "authorship_tag": "ABX9TyO7bqAexhTR6M3bdAsprd6S",
      "include_colab_link": true
    },
    "kernelspec": {
      "name": "python3",
      "display_name": "Python 3"
    },
    "language_info": {
      "name": "python"
    }
  },
  "cells": [
    {
      "cell_type": "markdown",
      "metadata": {
        "id": "view-in-github",
        "colab_type": "text"
      },
      "source": [
        "<a href=\"https://colab.research.google.com/github/Jaskirat1/AIT_SVM_projects/blob/main/SVM_human_activity_reco.ipynb\" target=\"_parent\"><img src=\"https://colab.research.google.com/assets/colab-badge.svg\" alt=\"Open In Colab\"/></a>"
      ]
    },
    {
      "cell_type": "code",
      "execution_count": 1,
      "metadata": {
        "id": "Bo11Vw6Hbesz"
      },
      "outputs": [],
      "source": [
        "import numpy as np \n",
        "import pylab  as pl \n",
        "import pandas as pd\n",
        "import matplotlib.pyplot as plt\n",
        "%matplotlib inline \n",
        "import seaborn as sns\n",
        "from sklearn.utils import shuffle \n",
        "from sklearn.svm import SVC\n",
        "from sklearn.metrics import confusion_matrix, classification_report\n",
        "from sklearn.model_selection import cross_val_score, GridSearchCV"
      ]
    },
    {
      "cell_type": "code",
      "source": [
        "test = pd.read_csv('test.csv')"
      ],
      "metadata": {
        "id": "oZGTtU3x1dzM"
      },
      "execution_count": 2,
      "outputs": []
    },
    {
      "cell_type": "code",
      "source": [
        "test.head()"
      ],
      "metadata": {
        "colab": {
          "base_uri": "https://localhost:8080/",
          "height": 317
        },
        "id": "jsDGXTn710Dx",
        "outputId": "602c089e-b1e8-4936-b9b9-b22b58de1d4d"
      },
      "execution_count": 3,
      "outputs": [
        {
          "output_type": "execute_result",
          "data": {
            "text/plain": [
              "   tBodyAcc-mean()-X  tBodyAcc-mean()-Y  tBodyAcc-mean()-Z  tBodyAcc-std()-X  \\\n",
              "0           0.257178          -0.023285          -0.014654         -0.938404   \n",
              "1           0.286027          -0.013163          -0.119083         -0.975415   \n",
              "2           0.275485          -0.026050          -0.118152         -0.993819   \n",
              "3           0.270298          -0.032614          -0.117520         -0.994743   \n",
              "4           0.274833          -0.027848          -0.129527         -0.993852   \n",
              "\n",
              "   tBodyAcc-std()-Y  tBodyAcc-std()-Z  tBodyAcc-mad()-X  tBodyAcc-mad()-Y  \\\n",
              "0         -0.920091         -0.667683         -0.952501         -0.925249   \n",
              "1         -0.967458         -0.944958         -0.986799         -0.968401   \n",
              "2         -0.969926         -0.962748         -0.994403         -0.970735   \n",
              "3         -0.973268         -0.967091         -0.995274         -0.974471   \n",
              "4         -0.967445         -0.978295         -0.994111         -0.965953   \n",
              "\n",
              "   tBodyAcc-mad()-Z  tBodyAcc-max()-X  ...  fBodyBodyGyroJerkMag-kurtosis()  \\\n",
              "0         -0.674302         -0.894088  ...                        -0.705974   \n",
              "1         -0.945823         -0.894088  ...                        -0.594944   \n",
              "2         -0.963483         -0.939260  ...                        -0.640736   \n",
              "3         -0.968897         -0.938610  ...                        -0.736124   \n",
              "4         -0.977346         -0.938610  ...                        -0.846595   \n",
              "\n",
              "   angle(tBodyAccMean,gravity)  angle(tBodyAccJerkMean),gravityMean)  \\\n",
              "0                     0.006462                              0.162920   \n",
              "1                    -0.083495                              0.017500   \n",
              "2                    -0.034956                              0.202302   \n",
              "3                    -0.017067                              0.154438   \n",
              "4                    -0.002223                             -0.040046   \n",
              "\n",
              "   angle(tBodyGyroMean,gravityMean)  angle(tBodyGyroJerkMean,gravityMean)  \\\n",
              "0                         -0.825886                              0.271151   \n",
              "1                         -0.434375                              0.920593   \n",
              "2                          0.064103                              0.145068   \n",
              "3                          0.340134                              0.296407   \n",
              "4                          0.736715                             -0.118545   \n",
              "\n",
              "   angle(X,gravityMean)  angle(Y,gravityMean)  angle(Z,gravityMean)  subject  \\\n",
              "0             -0.720009              0.276801             -0.057978        2   \n",
              "1             -0.698091              0.281343             -0.083898        2   \n",
              "2             -0.702771              0.280083             -0.079346        2   \n",
              "3             -0.698954              0.284114             -0.077108        2   \n",
              "4             -0.692245              0.290722             -0.073857        2   \n",
              "\n",
              "   Activity  \n",
              "0  STANDING  \n",
              "1  STANDING  \n",
              "2  STANDING  \n",
              "3  STANDING  \n",
              "4  STANDING  \n",
              "\n",
              "[5 rows x 563 columns]"
            ],
            "text/html": [
              "\n",
              "  <div id=\"df-9d450a7f-225a-4c74-8831-da627f621b86\">\n",
              "    <div class=\"colab-df-container\">\n",
              "      <div>\n",
              "<style scoped>\n",
              "    .dataframe tbody tr th:only-of-type {\n",
              "        vertical-align: middle;\n",
              "    }\n",
              "\n",
              "    .dataframe tbody tr th {\n",
              "        vertical-align: top;\n",
              "    }\n",
              "\n",
              "    .dataframe thead th {\n",
              "        text-align: right;\n",
              "    }\n",
              "</style>\n",
              "<table border=\"1\" class=\"dataframe\">\n",
              "  <thead>\n",
              "    <tr style=\"text-align: right;\">\n",
              "      <th></th>\n",
              "      <th>tBodyAcc-mean()-X</th>\n",
              "      <th>tBodyAcc-mean()-Y</th>\n",
              "      <th>tBodyAcc-mean()-Z</th>\n",
              "      <th>tBodyAcc-std()-X</th>\n",
              "      <th>tBodyAcc-std()-Y</th>\n",
              "      <th>tBodyAcc-std()-Z</th>\n",
              "      <th>tBodyAcc-mad()-X</th>\n",
              "      <th>tBodyAcc-mad()-Y</th>\n",
              "      <th>tBodyAcc-mad()-Z</th>\n",
              "      <th>tBodyAcc-max()-X</th>\n",
              "      <th>...</th>\n",
              "      <th>fBodyBodyGyroJerkMag-kurtosis()</th>\n",
              "      <th>angle(tBodyAccMean,gravity)</th>\n",
              "      <th>angle(tBodyAccJerkMean),gravityMean)</th>\n",
              "      <th>angle(tBodyGyroMean,gravityMean)</th>\n",
              "      <th>angle(tBodyGyroJerkMean,gravityMean)</th>\n",
              "      <th>angle(X,gravityMean)</th>\n",
              "      <th>angle(Y,gravityMean)</th>\n",
              "      <th>angle(Z,gravityMean)</th>\n",
              "      <th>subject</th>\n",
              "      <th>Activity</th>\n",
              "    </tr>\n",
              "  </thead>\n",
              "  <tbody>\n",
              "    <tr>\n",
              "      <th>0</th>\n",
              "      <td>0.257178</td>\n",
              "      <td>-0.023285</td>\n",
              "      <td>-0.014654</td>\n",
              "      <td>-0.938404</td>\n",
              "      <td>-0.920091</td>\n",
              "      <td>-0.667683</td>\n",
              "      <td>-0.952501</td>\n",
              "      <td>-0.925249</td>\n",
              "      <td>-0.674302</td>\n",
              "      <td>-0.894088</td>\n",
              "      <td>...</td>\n",
              "      <td>-0.705974</td>\n",
              "      <td>0.006462</td>\n",
              "      <td>0.162920</td>\n",
              "      <td>-0.825886</td>\n",
              "      <td>0.271151</td>\n",
              "      <td>-0.720009</td>\n",
              "      <td>0.276801</td>\n",
              "      <td>-0.057978</td>\n",
              "      <td>2</td>\n",
              "      <td>STANDING</td>\n",
              "    </tr>\n",
              "    <tr>\n",
              "      <th>1</th>\n",
              "      <td>0.286027</td>\n",
              "      <td>-0.013163</td>\n",
              "      <td>-0.119083</td>\n",
              "      <td>-0.975415</td>\n",
              "      <td>-0.967458</td>\n",
              "      <td>-0.944958</td>\n",
              "      <td>-0.986799</td>\n",
              "      <td>-0.968401</td>\n",
              "      <td>-0.945823</td>\n",
              "      <td>-0.894088</td>\n",
              "      <td>...</td>\n",
              "      <td>-0.594944</td>\n",
              "      <td>-0.083495</td>\n",
              "      <td>0.017500</td>\n",
              "      <td>-0.434375</td>\n",
              "      <td>0.920593</td>\n",
              "      <td>-0.698091</td>\n",
              "      <td>0.281343</td>\n",
              "      <td>-0.083898</td>\n",
              "      <td>2</td>\n",
              "      <td>STANDING</td>\n",
              "    </tr>\n",
              "    <tr>\n",
              "      <th>2</th>\n",
              "      <td>0.275485</td>\n",
              "      <td>-0.026050</td>\n",
              "      <td>-0.118152</td>\n",
              "      <td>-0.993819</td>\n",
              "      <td>-0.969926</td>\n",
              "      <td>-0.962748</td>\n",
              "      <td>-0.994403</td>\n",
              "      <td>-0.970735</td>\n",
              "      <td>-0.963483</td>\n",
              "      <td>-0.939260</td>\n",
              "      <td>...</td>\n",
              "      <td>-0.640736</td>\n",
              "      <td>-0.034956</td>\n",
              "      <td>0.202302</td>\n",
              "      <td>0.064103</td>\n",
              "      <td>0.145068</td>\n",
              "      <td>-0.702771</td>\n",
              "      <td>0.280083</td>\n",
              "      <td>-0.079346</td>\n",
              "      <td>2</td>\n",
              "      <td>STANDING</td>\n",
              "    </tr>\n",
              "    <tr>\n",
              "      <th>3</th>\n",
              "      <td>0.270298</td>\n",
              "      <td>-0.032614</td>\n",
              "      <td>-0.117520</td>\n",
              "      <td>-0.994743</td>\n",
              "      <td>-0.973268</td>\n",
              "      <td>-0.967091</td>\n",
              "      <td>-0.995274</td>\n",
              "      <td>-0.974471</td>\n",
              "      <td>-0.968897</td>\n",
              "      <td>-0.938610</td>\n",
              "      <td>...</td>\n",
              "      <td>-0.736124</td>\n",
              "      <td>-0.017067</td>\n",
              "      <td>0.154438</td>\n",
              "      <td>0.340134</td>\n",
              "      <td>0.296407</td>\n",
              "      <td>-0.698954</td>\n",
              "      <td>0.284114</td>\n",
              "      <td>-0.077108</td>\n",
              "      <td>2</td>\n",
              "      <td>STANDING</td>\n",
              "    </tr>\n",
              "    <tr>\n",
              "      <th>4</th>\n",
              "      <td>0.274833</td>\n",
              "      <td>-0.027848</td>\n",
              "      <td>-0.129527</td>\n",
              "      <td>-0.993852</td>\n",
              "      <td>-0.967445</td>\n",
              "      <td>-0.978295</td>\n",
              "      <td>-0.994111</td>\n",
              "      <td>-0.965953</td>\n",
              "      <td>-0.977346</td>\n",
              "      <td>-0.938610</td>\n",
              "      <td>...</td>\n",
              "      <td>-0.846595</td>\n",
              "      <td>-0.002223</td>\n",
              "      <td>-0.040046</td>\n",
              "      <td>0.736715</td>\n",
              "      <td>-0.118545</td>\n",
              "      <td>-0.692245</td>\n",
              "      <td>0.290722</td>\n",
              "      <td>-0.073857</td>\n",
              "      <td>2</td>\n",
              "      <td>STANDING</td>\n",
              "    </tr>\n",
              "  </tbody>\n",
              "</table>\n",
              "<p>5 rows × 563 columns</p>\n",
              "</div>\n",
              "      <button class=\"colab-df-convert\" onclick=\"convertToInteractive('df-9d450a7f-225a-4c74-8831-da627f621b86')\"\n",
              "              title=\"Convert this dataframe to an interactive table.\"\n",
              "              style=\"display:none;\">\n",
              "        \n",
              "  <svg xmlns=\"http://www.w3.org/2000/svg\" height=\"24px\"viewBox=\"0 0 24 24\"\n",
              "       width=\"24px\">\n",
              "    <path d=\"M0 0h24v24H0V0z\" fill=\"none\"/>\n",
              "    <path d=\"M18.56 5.44l.94 2.06.94-2.06 2.06-.94-2.06-.94-.94-2.06-.94 2.06-2.06.94zm-11 1L8.5 8.5l.94-2.06 2.06-.94-2.06-.94L8.5 2.5l-.94 2.06-2.06.94zm10 10l.94 2.06.94-2.06 2.06-.94-2.06-.94-.94-2.06-.94 2.06-2.06.94z\"/><path d=\"M17.41 7.96l-1.37-1.37c-.4-.4-.92-.59-1.43-.59-.52 0-1.04.2-1.43.59L10.3 9.45l-7.72 7.72c-.78.78-.78 2.05 0 2.83L4 21.41c.39.39.9.59 1.41.59.51 0 1.02-.2 1.41-.59l7.78-7.78 2.81-2.81c.8-.78.8-2.07 0-2.86zM5.41 20L4 18.59l7.72-7.72 1.47 1.35L5.41 20z\"/>\n",
              "  </svg>\n",
              "      </button>\n",
              "      \n",
              "  <style>\n",
              "    .colab-df-container {\n",
              "      display:flex;\n",
              "      flex-wrap:wrap;\n",
              "      gap: 12px;\n",
              "    }\n",
              "\n",
              "    .colab-df-convert {\n",
              "      background-color: #E8F0FE;\n",
              "      border: none;\n",
              "      border-radius: 50%;\n",
              "      cursor: pointer;\n",
              "      display: none;\n",
              "      fill: #1967D2;\n",
              "      height: 32px;\n",
              "      padding: 0 0 0 0;\n",
              "      width: 32px;\n",
              "    }\n",
              "\n",
              "    .colab-df-convert:hover {\n",
              "      background-color: #E2EBFA;\n",
              "      box-shadow: 0px 1px 2px rgba(60, 64, 67, 0.3), 0px 1px 3px 1px rgba(60, 64, 67, 0.15);\n",
              "      fill: #174EA6;\n",
              "    }\n",
              "\n",
              "    [theme=dark] .colab-df-convert {\n",
              "      background-color: #3B4455;\n",
              "      fill: #D2E3FC;\n",
              "    }\n",
              "\n",
              "    [theme=dark] .colab-df-convert:hover {\n",
              "      background-color: #434B5C;\n",
              "      box-shadow: 0px 1px 3px 1px rgba(0, 0, 0, 0.15);\n",
              "      filter: drop-shadow(0px 1px 2px rgba(0, 0, 0, 0.3));\n",
              "      fill: #FFFFFF;\n",
              "    }\n",
              "  </style>\n",
              "\n",
              "      <script>\n",
              "        const buttonEl =\n",
              "          document.querySelector('#df-9d450a7f-225a-4c74-8831-da627f621b86 button.colab-df-convert');\n",
              "        buttonEl.style.display =\n",
              "          google.colab.kernel.accessAllowed ? 'block' : 'none';\n",
              "\n",
              "        async function convertToInteractive(key) {\n",
              "          const element = document.querySelector('#df-9d450a7f-225a-4c74-8831-da627f621b86');\n",
              "          const dataTable =\n",
              "            await google.colab.kernel.invokeFunction('convertToInteractive',\n",
              "                                                     [key], {});\n",
              "          if (!dataTable) return;\n",
              "\n",
              "          const docLinkHtml = 'Like what you see? Visit the ' +\n",
              "            '<a target=\"_blank\" href=https://colab.research.google.com/notebooks/data_table.ipynb>data table notebook</a>'\n",
              "            + ' to learn more about interactive tables.';\n",
              "          element.innerHTML = '';\n",
              "          dataTable['output_type'] = 'display_data';\n",
              "          await google.colab.output.renderOutput(dataTable, element);\n",
              "          const docLink = document.createElement('div');\n",
              "          docLink.innerHTML = docLinkHtml;\n",
              "          element.appendChild(docLink);\n",
              "        }\n",
              "      </script>\n",
              "    </div>\n",
              "  </div>\n",
              "  "
            ]
          },
          "metadata": {},
          "execution_count": 3
        }
      ]
    },
    {
      "cell_type": "code",
      "source": [
        "train = pd.read_csv('train.csv')"
      ],
      "metadata": {
        "id": "N36f0ccQ19WP"
      },
      "execution_count": 4,
      "outputs": []
    },
    {
      "cell_type": "code",
      "source": [
        "train.head()"
      ],
      "metadata": {
        "colab": {
          "base_uri": "https://localhost:8080/",
          "height": 317
        },
        "id": "d9eORCbT2JNM",
        "outputId": "575b88a2-264e-41f1-c0e8-82e7a3b00207"
      },
      "execution_count": 5,
      "outputs": [
        {
          "output_type": "execute_result",
          "data": {
            "text/plain": [
              "   tBodyAcc-mean()-X  tBodyAcc-mean()-Y  tBodyAcc-mean()-Z  tBodyAcc-std()-X  \\\n",
              "0           0.288585          -0.020294          -0.132905         -0.995279   \n",
              "1           0.278419          -0.016411          -0.123520         -0.998245   \n",
              "2           0.279653          -0.019467          -0.113462         -0.995380   \n",
              "3           0.279174          -0.026201          -0.123283         -0.996091   \n",
              "4           0.276629          -0.016570          -0.115362         -0.998139   \n",
              "\n",
              "   tBodyAcc-std()-Y  tBodyAcc-std()-Z  tBodyAcc-mad()-X  tBodyAcc-mad()-Y  \\\n",
              "0         -0.983111         -0.913526         -0.995112         -0.983185   \n",
              "1         -0.975300         -0.960322         -0.998807         -0.974914   \n",
              "2         -0.967187         -0.978944         -0.996520         -0.963668   \n",
              "3         -0.983403         -0.990675         -0.997099         -0.982750   \n",
              "4         -0.980817         -0.990482         -0.998321         -0.979672   \n",
              "\n",
              "   tBodyAcc-mad()-Z  tBodyAcc-max()-X  ...  fBodyBodyGyroJerkMag-kurtosis()  \\\n",
              "0         -0.923527         -0.934724  ...                        -0.710304   \n",
              "1         -0.957686         -0.943068  ...                        -0.861499   \n",
              "2         -0.977469         -0.938692  ...                        -0.760104   \n",
              "3         -0.989302         -0.938692  ...                        -0.482845   \n",
              "4         -0.990441         -0.942469  ...                        -0.699205   \n",
              "\n",
              "   angle(tBodyAccMean,gravity)  angle(tBodyAccJerkMean),gravityMean)  \\\n",
              "0                    -0.112754                              0.030400   \n",
              "1                     0.053477                             -0.007435   \n",
              "2                    -0.118559                              0.177899   \n",
              "3                    -0.036788                             -0.012892   \n",
              "4                     0.123320                              0.122542   \n",
              "\n",
              "   angle(tBodyGyroMean,gravityMean)  angle(tBodyGyroJerkMean,gravityMean)  \\\n",
              "0                         -0.464761                             -0.018446   \n",
              "1                         -0.732626                              0.703511   \n",
              "2                          0.100699                              0.808529   \n",
              "3                          0.640011                             -0.485366   \n",
              "4                          0.693578                             -0.615971   \n",
              "\n",
              "   angle(X,gravityMean)  angle(Y,gravityMean)  angle(Z,gravityMean)  subject  \\\n",
              "0             -0.841247              0.179941             -0.058627        1   \n",
              "1             -0.844788              0.180289             -0.054317        1   \n",
              "2             -0.848933              0.180637             -0.049118        1   \n",
              "3             -0.848649              0.181935             -0.047663        1   \n",
              "4             -0.847865              0.185151             -0.043892        1   \n",
              "\n",
              "   Activity  \n",
              "0  STANDING  \n",
              "1  STANDING  \n",
              "2  STANDING  \n",
              "3  STANDING  \n",
              "4  STANDING  \n",
              "\n",
              "[5 rows x 563 columns]"
            ],
            "text/html": [
              "\n",
              "  <div id=\"df-570409a3-838a-448a-b23d-ef3ab90d96b6\">\n",
              "    <div class=\"colab-df-container\">\n",
              "      <div>\n",
              "<style scoped>\n",
              "    .dataframe tbody tr th:only-of-type {\n",
              "        vertical-align: middle;\n",
              "    }\n",
              "\n",
              "    .dataframe tbody tr th {\n",
              "        vertical-align: top;\n",
              "    }\n",
              "\n",
              "    .dataframe thead th {\n",
              "        text-align: right;\n",
              "    }\n",
              "</style>\n",
              "<table border=\"1\" class=\"dataframe\">\n",
              "  <thead>\n",
              "    <tr style=\"text-align: right;\">\n",
              "      <th></th>\n",
              "      <th>tBodyAcc-mean()-X</th>\n",
              "      <th>tBodyAcc-mean()-Y</th>\n",
              "      <th>tBodyAcc-mean()-Z</th>\n",
              "      <th>tBodyAcc-std()-X</th>\n",
              "      <th>tBodyAcc-std()-Y</th>\n",
              "      <th>tBodyAcc-std()-Z</th>\n",
              "      <th>tBodyAcc-mad()-X</th>\n",
              "      <th>tBodyAcc-mad()-Y</th>\n",
              "      <th>tBodyAcc-mad()-Z</th>\n",
              "      <th>tBodyAcc-max()-X</th>\n",
              "      <th>...</th>\n",
              "      <th>fBodyBodyGyroJerkMag-kurtosis()</th>\n",
              "      <th>angle(tBodyAccMean,gravity)</th>\n",
              "      <th>angle(tBodyAccJerkMean),gravityMean)</th>\n",
              "      <th>angle(tBodyGyroMean,gravityMean)</th>\n",
              "      <th>angle(tBodyGyroJerkMean,gravityMean)</th>\n",
              "      <th>angle(X,gravityMean)</th>\n",
              "      <th>angle(Y,gravityMean)</th>\n",
              "      <th>angle(Z,gravityMean)</th>\n",
              "      <th>subject</th>\n",
              "      <th>Activity</th>\n",
              "    </tr>\n",
              "  </thead>\n",
              "  <tbody>\n",
              "    <tr>\n",
              "      <th>0</th>\n",
              "      <td>0.288585</td>\n",
              "      <td>-0.020294</td>\n",
              "      <td>-0.132905</td>\n",
              "      <td>-0.995279</td>\n",
              "      <td>-0.983111</td>\n",
              "      <td>-0.913526</td>\n",
              "      <td>-0.995112</td>\n",
              "      <td>-0.983185</td>\n",
              "      <td>-0.923527</td>\n",
              "      <td>-0.934724</td>\n",
              "      <td>...</td>\n",
              "      <td>-0.710304</td>\n",
              "      <td>-0.112754</td>\n",
              "      <td>0.030400</td>\n",
              "      <td>-0.464761</td>\n",
              "      <td>-0.018446</td>\n",
              "      <td>-0.841247</td>\n",
              "      <td>0.179941</td>\n",
              "      <td>-0.058627</td>\n",
              "      <td>1</td>\n",
              "      <td>STANDING</td>\n",
              "    </tr>\n",
              "    <tr>\n",
              "      <th>1</th>\n",
              "      <td>0.278419</td>\n",
              "      <td>-0.016411</td>\n",
              "      <td>-0.123520</td>\n",
              "      <td>-0.998245</td>\n",
              "      <td>-0.975300</td>\n",
              "      <td>-0.960322</td>\n",
              "      <td>-0.998807</td>\n",
              "      <td>-0.974914</td>\n",
              "      <td>-0.957686</td>\n",
              "      <td>-0.943068</td>\n",
              "      <td>...</td>\n",
              "      <td>-0.861499</td>\n",
              "      <td>0.053477</td>\n",
              "      <td>-0.007435</td>\n",
              "      <td>-0.732626</td>\n",
              "      <td>0.703511</td>\n",
              "      <td>-0.844788</td>\n",
              "      <td>0.180289</td>\n",
              "      <td>-0.054317</td>\n",
              "      <td>1</td>\n",
              "      <td>STANDING</td>\n",
              "    </tr>\n",
              "    <tr>\n",
              "      <th>2</th>\n",
              "      <td>0.279653</td>\n",
              "      <td>-0.019467</td>\n",
              "      <td>-0.113462</td>\n",
              "      <td>-0.995380</td>\n",
              "      <td>-0.967187</td>\n",
              "      <td>-0.978944</td>\n",
              "      <td>-0.996520</td>\n",
              "      <td>-0.963668</td>\n",
              "      <td>-0.977469</td>\n",
              "      <td>-0.938692</td>\n",
              "      <td>...</td>\n",
              "      <td>-0.760104</td>\n",
              "      <td>-0.118559</td>\n",
              "      <td>0.177899</td>\n",
              "      <td>0.100699</td>\n",
              "      <td>0.808529</td>\n",
              "      <td>-0.848933</td>\n",
              "      <td>0.180637</td>\n",
              "      <td>-0.049118</td>\n",
              "      <td>1</td>\n",
              "      <td>STANDING</td>\n",
              "    </tr>\n",
              "    <tr>\n",
              "      <th>3</th>\n",
              "      <td>0.279174</td>\n",
              "      <td>-0.026201</td>\n",
              "      <td>-0.123283</td>\n",
              "      <td>-0.996091</td>\n",
              "      <td>-0.983403</td>\n",
              "      <td>-0.990675</td>\n",
              "      <td>-0.997099</td>\n",
              "      <td>-0.982750</td>\n",
              "      <td>-0.989302</td>\n",
              "      <td>-0.938692</td>\n",
              "      <td>...</td>\n",
              "      <td>-0.482845</td>\n",
              "      <td>-0.036788</td>\n",
              "      <td>-0.012892</td>\n",
              "      <td>0.640011</td>\n",
              "      <td>-0.485366</td>\n",
              "      <td>-0.848649</td>\n",
              "      <td>0.181935</td>\n",
              "      <td>-0.047663</td>\n",
              "      <td>1</td>\n",
              "      <td>STANDING</td>\n",
              "    </tr>\n",
              "    <tr>\n",
              "      <th>4</th>\n",
              "      <td>0.276629</td>\n",
              "      <td>-0.016570</td>\n",
              "      <td>-0.115362</td>\n",
              "      <td>-0.998139</td>\n",
              "      <td>-0.980817</td>\n",
              "      <td>-0.990482</td>\n",
              "      <td>-0.998321</td>\n",
              "      <td>-0.979672</td>\n",
              "      <td>-0.990441</td>\n",
              "      <td>-0.942469</td>\n",
              "      <td>...</td>\n",
              "      <td>-0.699205</td>\n",
              "      <td>0.123320</td>\n",
              "      <td>0.122542</td>\n",
              "      <td>0.693578</td>\n",
              "      <td>-0.615971</td>\n",
              "      <td>-0.847865</td>\n",
              "      <td>0.185151</td>\n",
              "      <td>-0.043892</td>\n",
              "      <td>1</td>\n",
              "      <td>STANDING</td>\n",
              "    </tr>\n",
              "  </tbody>\n",
              "</table>\n",
              "<p>5 rows × 563 columns</p>\n",
              "</div>\n",
              "      <button class=\"colab-df-convert\" onclick=\"convertToInteractive('df-570409a3-838a-448a-b23d-ef3ab90d96b6')\"\n",
              "              title=\"Convert this dataframe to an interactive table.\"\n",
              "              style=\"display:none;\">\n",
              "        \n",
              "  <svg xmlns=\"http://www.w3.org/2000/svg\" height=\"24px\"viewBox=\"0 0 24 24\"\n",
              "       width=\"24px\">\n",
              "    <path d=\"M0 0h24v24H0V0z\" fill=\"none\"/>\n",
              "    <path d=\"M18.56 5.44l.94 2.06.94-2.06 2.06-.94-2.06-.94-.94-2.06-.94 2.06-2.06.94zm-11 1L8.5 8.5l.94-2.06 2.06-.94-2.06-.94L8.5 2.5l-.94 2.06-2.06.94zm10 10l.94 2.06.94-2.06 2.06-.94-2.06-.94-.94-2.06-.94 2.06-2.06.94z\"/><path d=\"M17.41 7.96l-1.37-1.37c-.4-.4-.92-.59-1.43-.59-.52 0-1.04.2-1.43.59L10.3 9.45l-7.72 7.72c-.78.78-.78 2.05 0 2.83L4 21.41c.39.39.9.59 1.41.59.51 0 1.02-.2 1.41-.59l7.78-7.78 2.81-2.81c.8-.78.8-2.07 0-2.86zM5.41 20L4 18.59l7.72-7.72 1.47 1.35L5.41 20z\"/>\n",
              "  </svg>\n",
              "      </button>\n",
              "      \n",
              "  <style>\n",
              "    .colab-df-container {\n",
              "      display:flex;\n",
              "      flex-wrap:wrap;\n",
              "      gap: 12px;\n",
              "    }\n",
              "\n",
              "    .colab-df-convert {\n",
              "      background-color: #E8F0FE;\n",
              "      border: none;\n",
              "      border-radius: 50%;\n",
              "      cursor: pointer;\n",
              "      display: none;\n",
              "      fill: #1967D2;\n",
              "      height: 32px;\n",
              "      padding: 0 0 0 0;\n",
              "      width: 32px;\n",
              "    }\n",
              "\n",
              "    .colab-df-convert:hover {\n",
              "      background-color: #E2EBFA;\n",
              "      box-shadow: 0px 1px 2px rgba(60, 64, 67, 0.3), 0px 1px 3px 1px rgba(60, 64, 67, 0.15);\n",
              "      fill: #174EA6;\n",
              "    }\n",
              "\n",
              "    [theme=dark] .colab-df-convert {\n",
              "      background-color: #3B4455;\n",
              "      fill: #D2E3FC;\n",
              "    }\n",
              "\n",
              "    [theme=dark] .colab-df-convert:hover {\n",
              "      background-color: #434B5C;\n",
              "      box-shadow: 0px 1px 3px 1px rgba(0, 0, 0, 0.15);\n",
              "      filter: drop-shadow(0px 1px 2px rgba(0, 0, 0, 0.3));\n",
              "      fill: #FFFFFF;\n",
              "    }\n",
              "  </style>\n",
              "\n",
              "      <script>\n",
              "        const buttonEl =\n",
              "          document.querySelector('#df-570409a3-838a-448a-b23d-ef3ab90d96b6 button.colab-df-convert');\n",
              "        buttonEl.style.display =\n",
              "          google.colab.kernel.accessAllowed ? 'block' : 'none';\n",
              "\n",
              "        async function convertToInteractive(key) {\n",
              "          const element = document.querySelector('#df-570409a3-838a-448a-b23d-ef3ab90d96b6');\n",
              "          const dataTable =\n",
              "            await google.colab.kernel.invokeFunction('convertToInteractive',\n",
              "                                                     [key], {});\n",
              "          if (!dataTable) return;\n",
              "\n",
              "          const docLinkHtml = 'Like what you see? Visit the ' +\n",
              "            '<a target=\"_blank\" href=https://colab.research.google.com/notebooks/data_table.ipynb>data table notebook</a>'\n",
              "            + ' to learn more about interactive tables.';\n",
              "          element.innerHTML = '';\n",
              "          dataTable['output_type'] = 'display_data';\n",
              "          await google.colab.output.renderOutput(dataTable, element);\n",
              "          const docLink = document.createElement('div');\n",
              "          docLink.innerHTML = docLinkHtml;\n",
              "          element.appendChild(docLink);\n",
              "        }\n",
              "      </script>\n",
              "    </div>\n",
              "  </div>\n",
              "  "
            ]
          },
          "metadata": {},
          "execution_count": 5
        }
      ]
    },
    {
      "cell_type": "code",
      "source": [
        "train.shape"
      ],
      "metadata": {
        "colab": {
          "base_uri": "https://localhost:8080/"
        },
        "id": "_elJghVE2LSI",
        "outputId": "55d046ba-b0a3-429a-97f8-326f3b9ee61b"
      },
      "execution_count": 6,
      "outputs": [
        {
          "output_type": "execute_result",
          "data": {
            "text/plain": [
              "(7352, 563)"
            ]
          },
          "metadata": {},
          "execution_count": 6
        }
      ]
    },
    {
      "cell_type": "code",
      "source": [
        "test.shape"
      ],
      "metadata": {
        "colab": {
          "base_uri": "https://localhost:8080/"
        },
        "id": "LgWKMPIi2MlI",
        "outputId": "194386b9-0873-4757-c1a4-93a62ffd888d"
      },
      "execution_count": 7,
      "outputs": [
        {
          "output_type": "execute_result",
          "data": {
            "text/plain": [
              "(2947, 563)"
            ]
          },
          "metadata": {},
          "execution_count": 7
        }
      ]
    },
    {
      "cell_type": "code",
      "source": [
        "train.isnull().sum()"
      ],
      "metadata": {
        "colab": {
          "base_uri": "https://localhost:8080/"
        },
        "id": "dY2eMEOp2OWb",
        "outputId": "bf6a8b9a-f1f5-4a47-97d7-4cea37c2cd79"
      },
      "execution_count": 8,
      "outputs": [
        {
          "output_type": "execute_result",
          "data": {
            "text/plain": [
              "tBodyAcc-mean()-X       0\n",
              "tBodyAcc-mean()-Y       0\n",
              "tBodyAcc-mean()-Z       0\n",
              "tBodyAcc-std()-X        0\n",
              "tBodyAcc-std()-Y        0\n",
              "                       ..\n",
              "angle(X,gravityMean)    0\n",
              "angle(Y,gravityMean)    0\n",
              "angle(Z,gravityMean)    0\n",
              "subject                 0\n",
              "Activity                0\n",
              "Length: 563, dtype: int64"
            ]
          },
          "metadata": {},
          "execution_count": 8
        }
      ]
    },
    {
      "cell_type": "code",
      "source": [
        "test.isnull().sum()"
      ],
      "metadata": {
        "colab": {
          "base_uri": "https://localhost:8080/"
        },
        "id": "Uo9VMgYP2S1R",
        "outputId": "d5ee166a-9d8b-439f-9cb5-98da680b078f"
      },
      "execution_count": 10,
      "outputs": [
        {
          "output_type": "execute_result",
          "data": {
            "text/plain": [
              "tBodyAcc-mean()-X       0\n",
              "tBodyAcc-mean()-Y       0\n",
              "tBodyAcc-mean()-Z       0\n",
              "tBodyAcc-std()-X        0\n",
              "tBodyAcc-std()-Y        0\n",
              "                       ..\n",
              "angle(X,gravityMean)    0\n",
              "angle(Y,gravityMean)    0\n",
              "angle(Z,gravityMean)    0\n",
              "subject                 0\n",
              "Activity                0\n",
              "Length: 563, dtype: int64"
            ]
          },
          "metadata": {},
          "execution_count": 10
        }
      ]
    },
    {
      "cell_type": "code",
      "source": [
        "train_outcome = pd.crosstab(index = train['Activity'], columns ='count')"
      ],
      "metadata": {
        "id": "m_6oHfQW2fex"
      },
      "execution_count": 12,
      "outputs": []
    },
    {
      "cell_type": "code",
      "source": [
        "print(train_outcome)"
      ],
      "metadata": {
        "colab": {
          "base_uri": "https://localhost:8080/"
        },
        "id": "7aD1QxsC2prP",
        "outputId": "da751353-5d14-476f-8205-786d3d308f44"
      },
      "execution_count": 13,
      "outputs": [
        {
          "output_type": "stream",
          "name": "stdout",
          "text": [
            "col_0               count\n",
            "Activity                 \n",
            "LAYING               1407\n",
            "SITTING              1286\n",
            "STANDING             1374\n",
            "WALKING              1226\n",
            "WALKING_DOWNSTAIRS    986\n",
            "WALKING_UPSTAIRS     1073\n"
          ]
        }
      ]
    },
    {
      "cell_type": "code",
      "source": [
        "train['Activity'].sample()"
      ],
      "metadata": {
        "colab": {
          "base_uri": "https://localhost:8080/"
        },
        "id": "BQP4X8IZ41Wu",
        "outputId": "5aea1d70-4a47-45f9-c51d-4a6e4df8ad0a"
      },
      "execution_count": 15,
      "outputs": [
        {
          "output_type": "execute_result",
          "data": {
            "text/plain": [
              "3714    LAYING\n",
              "Name: Activity, dtype: object"
            ]
          },
          "metadata": {},
          "execution_count": 15
        }
      ]
    },
    {
      "cell_type": "code",
      "source": [
        "var = train['Activity'].value_counts()"
      ],
      "metadata": {
        "id": "bO29LqRJ4-Z7"
      },
      "execution_count": 16,
      "outputs": []
    },
    {
      "cell_type": "code",
      "source": [
        "var"
      ],
      "metadata": {
        "colab": {
          "base_uri": "https://localhost:8080/"
        },
        "id": "qMILspMh5UEu",
        "outputId": "f547f2b5-9a13-40d1-80b0-f057026ea4f3"
      },
      "execution_count": 17,
      "outputs": [
        {
          "output_type": "execute_result",
          "data": {
            "text/plain": [
              "LAYING                1407\n",
              "STANDING              1374\n",
              "SITTING               1286\n",
              "WALKING               1226\n",
              "WALKING_UPSTAIRS      1073\n",
              "WALKING_DOWNSTAIRS     986\n",
              "Name: Activity, dtype: int64"
            ]
          },
          "metadata": {},
          "execution_count": 17
        }
      ]
    },
    {
      "cell_type": "code",
      "source": [
        "df = pd.DataFrame({'labels': var.index, 'values': var.values})"
      ],
      "metadata": {
        "id": "hlL8TV8r5WOO"
      },
      "execution_count": 18,
      "outputs": []
    },
    {
      "cell_type": "code",
      "source": [
        "df"
      ],
      "metadata": {
        "colab": {
          "base_uri": "https://localhost:8080/",
          "height": 238
        },
        "id": "9--Mlhzr5jhL",
        "outputId": "61b20505-637e-4ff7-8a5f-22b374322759"
      },
      "execution_count": 19,
      "outputs": [
        {
          "output_type": "execute_result",
          "data": {
            "text/plain": [
              "               labels  values\n",
              "0              LAYING    1407\n",
              "1            STANDING    1374\n",
              "2             SITTING    1286\n",
              "3             WALKING    1226\n",
              "4    WALKING_UPSTAIRS    1073\n",
              "5  WALKING_DOWNSTAIRS     986"
            ],
            "text/html": [
              "\n",
              "  <div id=\"df-cd059bad-1504-4ff4-a63a-d01640ee6734\">\n",
              "    <div class=\"colab-df-container\">\n",
              "      <div>\n",
              "<style scoped>\n",
              "    .dataframe tbody tr th:only-of-type {\n",
              "        vertical-align: middle;\n",
              "    }\n",
              "\n",
              "    .dataframe tbody tr th {\n",
              "        vertical-align: top;\n",
              "    }\n",
              "\n",
              "    .dataframe thead th {\n",
              "        text-align: right;\n",
              "    }\n",
              "</style>\n",
              "<table border=\"1\" class=\"dataframe\">\n",
              "  <thead>\n",
              "    <tr style=\"text-align: right;\">\n",
              "      <th></th>\n",
              "      <th>labels</th>\n",
              "      <th>values</th>\n",
              "    </tr>\n",
              "  </thead>\n",
              "  <tbody>\n",
              "    <tr>\n",
              "      <th>0</th>\n",
              "      <td>LAYING</td>\n",
              "      <td>1407</td>\n",
              "    </tr>\n",
              "    <tr>\n",
              "      <th>1</th>\n",
              "      <td>STANDING</td>\n",
              "      <td>1374</td>\n",
              "    </tr>\n",
              "    <tr>\n",
              "      <th>2</th>\n",
              "      <td>SITTING</td>\n",
              "      <td>1286</td>\n",
              "    </tr>\n",
              "    <tr>\n",
              "      <th>3</th>\n",
              "      <td>WALKING</td>\n",
              "      <td>1226</td>\n",
              "    </tr>\n",
              "    <tr>\n",
              "      <th>4</th>\n",
              "      <td>WALKING_UPSTAIRS</td>\n",
              "      <td>1073</td>\n",
              "    </tr>\n",
              "    <tr>\n",
              "      <th>5</th>\n",
              "      <td>WALKING_DOWNSTAIRS</td>\n",
              "      <td>986</td>\n",
              "    </tr>\n",
              "  </tbody>\n",
              "</table>\n",
              "</div>\n",
              "      <button class=\"colab-df-convert\" onclick=\"convertToInteractive('df-cd059bad-1504-4ff4-a63a-d01640ee6734')\"\n",
              "              title=\"Convert this dataframe to an interactive table.\"\n",
              "              style=\"display:none;\">\n",
              "        \n",
              "  <svg xmlns=\"http://www.w3.org/2000/svg\" height=\"24px\"viewBox=\"0 0 24 24\"\n",
              "       width=\"24px\">\n",
              "    <path d=\"M0 0h24v24H0V0z\" fill=\"none\"/>\n",
              "    <path d=\"M18.56 5.44l.94 2.06.94-2.06 2.06-.94-2.06-.94-.94-2.06-.94 2.06-2.06.94zm-11 1L8.5 8.5l.94-2.06 2.06-.94-2.06-.94L8.5 2.5l-.94 2.06-2.06.94zm10 10l.94 2.06.94-2.06 2.06-.94-2.06-.94-.94-2.06-.94 2.06-2.06.94z\"/><path d=\"M17.41 7.96l-1.37-1.37c-.4-.4-.92-.59-1.43-.59-.52 0-1.04.2-1.43.59L10.3 9.45l-7.72 7.72c-.78.78-.78 2.05 0 2.83L4 21.41c.39.39.9.59 1.41.59.51 0 1.02-.2 1.41-.59l7.78-7.78 2.81-2.81c.8-.78.8-2.07 0-2.86zM5.41 20L4 18.59l7.72-7.72 1.47 1.35L5.41 20z\"/>\n",
              "  </svg>\n",
              "      </button>\n",
              "      \n",
              "  <style>\n",
              "    .colab-df-container {\n",
              "      display:flex;\n",
              "      flex-wrap:wrap;\n",
              "      gap: 12px;\n",
              "    }\n",
              "\n",
              "    .colab-df-convert {\n",
              "      background-color: #E8F0FE;\n",
              "      border: none;\n",
              "      border-radius: 50%;\n",
              "      cursor: pointer;\n",
              "      display: none;\n",
              "      fill: #1967D2;\n",
              "      height: 32px;\n",
              "      padding: 0 0 0 0;\n",
              "      width: 32px;\n",
              "    }\n",
              "\n",
              "    .colab-df-convert:hover {\n",
              "      background-color: #E2EBFA;\n",
              "      box-shadow: 0px 1px 2px rgba(60, 64, 67, 0.3), 0px 1px 3px 1px rgba(60, 64, 67, 0.15);\n",
              "      fill: #174EA6;\n",
              "    }\n",
              "\n",
              "    [theme=dark] .colab-df-convert {\n",
              "      background-color: #3B4455;\n",
              "      fill: #D2E3FC;\n",
              "    }\n",
              "\n",
              "    [theme=dark] .colab-df-convert:hover {\n",
              "      background-color: #434B5C;\n",
              "      box-shadow: 0px 1px 3px 1px rgba(0, 0, 0, 0.15);\n",
              "      filter: drop-shadow(0px 1px 2px rgba(0, 0, 0, 0.3));\n",
              "      fill: #FFFFFF;\n",
              "    }\n",
              "  </style>\n",
              "\n",
              "      <script>\n",
              "        const buttonEl =\n",
              "          document.querySelector('#df-cd059bad-1504-4ff4-a63a-d01640ee6734 button.colab-df-convert');\n",
              "        buttonEl.style.display =\n",
              "          google.colab.kernel.accessAllowed ? 'block' : 'none';\n",
              "\n",
              "        async function convertToInteractive(key) {\n",
              "          const element = document.querySelector('#df-cd059bad-1504-4ff4-a63a-d01640ee6734');\n",
              "          const dataTable =\n",
              "            await google.colab.kernel.invokeFunction('convertToInteractive',\n",
              "                                                     [key], {});\n",
              "          if (!dataTable) return;\n",
              "\n",
              "          const docLinkHtml = 'Like what you see? Visit the ' +\n",
              "            '<a target=\"_blank\" href=https://colab.research.google.com/notebooks/data_table.ipynb>data table notebook</a>'\n",
              "            + ' to learn more about interactive tables.';\n",
              "          element.innerHTML = '';\n",
              "          dataTable['output_type'] = 'display_data';\n",
              "          await google.colab.output.renderOutput(dataTable, element);\n",
              "          const docLink = document.createElement('div');\n",
              "          docLink.innerHTML = docLinkHtml;\n",
              "          element.appendChild(docLink);\n",
              "        }\n",
              "      </script>\n",
              "    </div>\n",
              "  </div>\n",
              "  "
            ]
          },
          "metadata": {},
          "execution_count": 19
        }
      ]
    },
    {
      "cell_type": "code",
      "source": [
        "labels = df['labels']"
      ],
      "metadata": {
        "id": "oWwilsUu5tSa"
      },
      "execution_count": 20,
      "outputs": []
    },
    {
      "cell_type": "code",
      "source": [
        "labels"
      ],
      "metadata": {
        "colab": {
          "base_uri": "https://localhost:8080/"
        },
        "id": "o_u6WsQ957h9",
        "outputId": "a84c0da1-1868-436f-8865-d308c30bd691"
      },
      "execution_count": 23,
      "outputs": [
        {
          "output_type": "execute_result",
          "data": {
            "text/plain": [
              "0                LAYING\n",
              "1              STANDING\n",
              "2               SITTING\n",
              "3               WALKING\n",
              "4      WALKING_UPSTAIRS\n",
              "5    WALKING_DOWNSTAIRS\n",
              "Name: labels, dtype: object"
            ]
          },
          "metadata": {},
          "execution_count": 23
        }
      ]
    },
    {
      "cell_type": "code",
      "source": [
        "sizes= df['values']"
      ],
      "metadata": {
        "id": "VISmN8zH5wfY"
      },
      "execution_count": 21,
      "outputs": []
    },
    {
      "cell_type": "code",
      "source": [
        "sizes"
      ],
      "metadata": {
        "colab": {
          "base_uri": "https://localhost:8080/"
        },
        "id": "b6KYSovl55YG",
        "outputId": "72875260-c289-476d-8a10-3c4ff27eb076"
      },
      "execution_count": 22,
      "outputs": [
        {
          "output_type": "execute_result",
          "data": {
            "text/plain": [
              "0    1407\n",
              "1    1374\n",
              "2    1286\n",
              "3    1226\n",
              "4    1073\n",
              "5     986\n",
              "Name: values, dtype: int64"
            ]
          },
          "metadata": {},
          "execution_count": 22
        }
      ]
    },
    {
      "cell_type": "code",
      "source": [
        "colors = ['yellowgreen', 'gold', 'lightskyblue', 'lightcoral', 'cyan', 'lightpink']"
      ],
      "metadata": {
        "id": "Nh0LaXqf59p4"
      },
      "execution_count": 24,
      "outputs": []
    },
    {
      "cell_type": "code",
      "source": [
        "patches, text = plt.pie(sizes, colors = colors, shadow = True, startangle = 90, pctdistance = 1.1, labeldistance=1.2)\n",
        "plt.legend(patches, labels, loc = 'best')\n",
        "plt.axis('equal')\n",
        "plt.tight_layout()\n",
        "plt.show()"
      ],
      "metadata": {
        "colab": {
          "base_uri": "https://localhost:8080/",
          "height": 297
        },
        "id": "W279NMg56H1v",
        "outputId": "0f2826ca-c273-4dca-8567-51cecf6d7bb2"
      },
      "execution_count": 32,
      "outputs": [
        {
          "output_type": "display_data",
          "data": {
            "text/plain": [
              "<Figure size 432x288 with 1 Axes>"
            ],
            "image/png": "[encoded data removed]"
          },
          "metadata": {}
        }
      ]
    },
    {
      "cell_type": "code",
      "source": [
        "X_train = pd.DataFrame(train.drop(['Activity', 'subject'], axis = 1))\n",
        "Y_trian_label = train.Activity.values.astype(object)\n"
      ],
      "metadata": {
        "id": "2KCXd0S567h6"
      },
      "execution_count": 34,
      "outputs": []
    },
    {
      "cell_type": "code",
      "source": [
        "X_train.shape"
      ],
      "metadata": {
        "colab": {
          "base_uri": "https://localhost:8080/"
        },
        "id": "qUtc38Ys7Vtj",
        "outputId": "5ed125fb-127c-48fd-9913-efbf2f59dee4"
      },
      "execution_count": 36,
      "outputs": [
        {
          "output_type": "execute_result",
          "data": {
            "text/plain": [
              "(7352, 561)"
            ]
          },
          "metadata": {},
          "execution_count": 36
        }
      ]
    },
    {
      "cell_type": "code",
      "source": [
        "Y_trian_label.shape"
      ],
      "metadata": {
        "colab": {
          "base_uri": "https://localhost:8080/"
        },
        "id": "tkmyo-WA7gsm",
        "outputId": "7a0dd7c9-7fd5-4e7e-bac3-40fe11b412ec"
      },
      "execution_count": 37,
      "outputs": [
        {
          "output_type": "execute_result",
          "data": {
            "text/plain": [
              "(7352,)"
            ]
          },
          "metadata": {},
          "execution_count": 37
        }
      ]
    },
    {
      "cell_type": "code",
      "source": [
        "X_test = pd.DataFrame(test.drop(['Activity', 'subject'], axis = 1))\n",
        "Y_test_label = test.Activity.values.astype(object)"
      ],
      "metadata": {
        "id": "k7VX0Ffn7mY7"
      },
      "execution_count": 38,
      "outputs": []
    },
    {
      "cell_type": "code",
      "source": [
        "X_test.shape"
      ],
      "metadata": {
        "colab": {
          "base_uri": "https://localhost:8080/"
        },
        "id": "euJ2N4zX71dc",
        "outputId": "5171cade-a4fb-46b4-d1c3-6cff5a59fdbb"
      },
      "execution_count": 39,
      "outputs": [
        {
          "output_type": "execute_result",
          "data": {
            "text/plain": [
              "(2947, 561)"
            ]
          },
          "metadata": {},
          "execution_count": 39
        }
      ]
    },
    {
      "cell_type": "code",
      "source": [
        "Y_test_label.shape"
      ],
      "metadata": {
        "colab": {
          "base_uri": "https://localhost:8080/"
        },
        "id": "bsasC6Xa73HX",
        "outputId": "5fba6875-4221-4a0b-8510-111c48f69d76"
      },
      "execution_count": 40,
      "outputs": [
        {
          "output_type": "execute_result",
          "data": {
            "text/plain": [
              "(2947,)"
            ]
          },
          "metadata": {},
          "execution_count": 40
        }
      ]
    },
    {
      "cell_type": "markdown",
      "source": [
        "Transforming non numerical labels into numerical labels"
      ],
      "metadata": {
        "id": "FxL_qbFL7-DQ"
      }
    },
    {
      "cell_type": "code",
      "source": [
        "from sklearn import preprocessing"
      ],
      "metadata": {
        "id": "Q281R_cT76gA"
      },
      "execution_count": 41,
      "outputs": []
    },
    {
      "cell_type": "code",
      "source": [
        "encoder = preprocessing.LabelEncoder()"
      ],
      "metadata": {
        "id": "nco-LGSJ8HXN"
      },
      "execution_count": 42,
      "outputs": []
    },
    {
      "cell_type": "code",
      "source": [
        "encoder.fit(Y_trian_label)"
      ],
      "metadata": {
        "colab": {
          "base_uri": "https://localhost:8080/"
        },
        "id": "H2lRu6AK8MPj",
        "outputId": "5f1214d0-7bb9-4f97-ebdb-32b9ff02c5fb"
      },
      "execution_count": 45,
      "outputs": [
        {
          "output_type": "execute_result",
          "data": {
            "text/plain": [
              "LabelEncoder()"
            ]
          },
          "metadata": {},
          "execution_count": 45
        }
      ]
    },
    {
      "cell_type": "code",
      "source": [
        "Y_train = encoder.transform(Y_trian_label)"
      ],
      "metadata": {
        "id": "owJd_T7M8T2j"
      },
      "execution_count": 47,
      "outputs": []
    },
    {
      "cell_type": "code",
      "source": [
        "encoder.fit(Y_test_label)"
      ],
      "metadata": {
        "colab": {
          "base_uri": "https://localhost:8080/"
        },
        "id": "0iKnLMja8nBQ",
        "outputId": "2ccb33c1-a434-41b0-96bc-a56d18fc694f"
      },
      "execution_count": 48,
      "outputs": [
        {
          "output_type": "execute_result",
          "data": {
            "text/plain": [
              "LabelEncoder()"
            ]
          },
          "metadata": {},
          "execution_count": 48
        }
      ]
    },
    {
      "cell_type": "code",
      "source": [
        "Y_test = encoder.transform(Y_test_label)"
      ],
      "metadata": {
        "id": "vBWHPSJf8ua9"
      },
      "execution_count": 49,
      "outputs": []
    },
    {
      "cell_type": "code",
      "source": [
        "#Total number of continous and Categorical features in the training set\n",
        "\n",
        "num_cols = X_train._get_numeric_data().columns\n",
        "print('Number of numeric features:', num_cols.size)"
      ],
      "metadata": {
        "colab": {
          "base_uri": "https://localhost:8080/"
        },
        "id": "p3kYo9Y783_y",
        "outputId": "d8e6ba4d-e446-4387-cec7-2cc401d64f34"
      },
      "execution_count": 50,
      "outputs": [
        {
          "output_type": "stream",
          "name": "stdout",
          "text": [
            "Number of numeric features: 561\n"
          ]
        }
      ]
    },
    {
      "cell_type": "code",
      "source": [
        "names_of_predicators = list(X_train.columns.values)"
      ],
      "metadata": {
        "id": "mE36YX_n9OrP"
      },
      "execution_count": 51,
      "outputs": []
    },
    {
      "cell_type": "code",
      "source": [
        "#names_of_predicators"
      ],
      "metadata": {
        "id": "JyHLat4y9XOx"
      },
      "execution_count": 53,
      "outputs": []
    },
    {
      "cell_type": "code",
      "source": [
        "from sklearn.preprocessing import StandardScaler"
      ],
      "metadata": {
        "id": "68fOON0V9hhb"
      },
      "execution_count": 54,
      "outputs": []
    },
    {
      "cell_type": "code",
      "source": [
        "scalar = StandardScaler()\n"
      ],
      "metadata": {
        "id": "KJDji_2e9pBR"
      },
      "execution_count": 56,
      "outputs": []
    },
    {
      "cell_type": "code",
      "source": [
        "X_trian_scaled = scalar.fit_transform(X_train)"
      ],
      "metadata": {
        "id": "vjT9aSm39v01"
      },
      "execution_count": 57,
      "outputs": []
    },
    {
      "cell_type": "code",
      "source": [
        "X_trian_scaled"
      ],
      "metadata": {
        "colab": {
          "base_uri": "https://localhost:8080/"
        },
        "id": "6zQyCY1O9r-I",
        "outputId": "94b5838f-dedc-4f59-f957-79b2847b0bd4"
      },
      "execution_count": 59,
      "outputs": [
        {
          "output_type": "execute_result",
          "data": {
            "text/plain": [
              "array([[ 0.20064157, -0.0636826 , -0.41962845, ..., -0.68721921,\n",
              "         0.40794614, -0.00756789],\n",
              "       [ 0.05594788,  0.03148567, -0.25390836, ..., -0.694138  ,\n",
              "         0.40911698,  0.00787517],\n",
              "       [ 0.07351535, -0.04341648, -0.07629468, ..., -0.702239  ,\n",
              "         0.4102883 ,  0.02650234],\n",
              "       ...,\n",
              "       [-0.01566765,  0.0167814 ,  1.13222107, ..., -0.56584847,\n",
              "         0.64059683,  0.34870928],\n",
              "       [ 0.21586648, -0.02812252, -0.86770988, ..., -0.57766781,\n",
              "         0.63147758,  0.29327564],\n",
              "       [ 1.09620157,  0.12919873, -1.67268082, ..., -0.57392691,\n",
              "         0.63274259,  0.33396081]])"
            ]
          },
          "metadata": {},
          "execution_count": 59
        }
      ]
    },
    {
      "cell_type": "code",
      "source": [
        "X_test_scaled = scalar.fit_transform(X_test)"
      ],
      "metadata": {
        "id": "qUGYbgmC99mn"
      },
      "execution_count": 60,
      "outputs": []
    },
    {
      "cell_type": "code",
      "source": [
        "X_test_scaled"
      ],
      "metadata": {
        "colab": {
          "base_uri": "https://localhost:8080/"
        },
        "id": "6xziPb74-Hgv",
        "outputId": "3fe34568-ef4c-4cd1-e00a-a8b6ed7c00d1"
      },
      "execution_count": 61,
      "outputs": [
        {
          "output_type": "execute_result",
          "data": {
            "text/plain": [
              "array([[-0.2777081 , -0.21063123,  2.19307573, ..., -0.40479042,\n",
              "         0.62272321, -0.0383485 ],\n",
              "       [ 0.19865964,  0.18259066, -0.25026383, ..., -0.36173867,\n",
              "         0.63673075, -0.14570918],\n",
              "       [ 0.02458676, -0.31805537, -0.22848456, ..., -0.37093228,\n",
              "         0.63284514, -0.12685534],\n",
              "       ...,\n",
              "       [ 1.25445818,  1.86244113, -0.17318039, ..., -0.27780151,\n",
              "         0.61556116,  0.95227139],\n",
              "       [-0.60108793,  1.41138509,  0.27812868, ..., -0.28636876,\n",
              "         0.58565426,  0.97869501],\n",
              "       [-1.98758645, -0.02226443, -0.66991444, ..., -0.28707909,\n",
              "         0.58304691,  0.98093374]])"
            ]
          },
          "metadata": {},
          "execution_count": 61
        }
      ]
    },
    {
      "cell_type": "code",
      "source": [
        "X_trian_scaled.shape"
      ],
      "metadata": {
        "colab": {
          "base_uri": "https://localhost:8080/"
        },
        "id": "RmRI7njD-J-v",
        "outputId": "a3d617fc-f41c-4539-f975-e96d216cb600"
      },
      "execution_count": 63,
      "outputs": [
        {
          "output_type": "execute_result",
          "data": {
            "text/plain": [
              "(7352, 561)"
            ]
          },
          "metadata": {},
          "execution_count": 63
        }
      ]
    },
    {
      "cell_type": "code",
      "source": [
        "X_test_scaled.shape"
      ],
      "metadata": {
        "colab": {
          "base_uri": "https://localhost:8080/"
        },
        "id": "J9b20OGi-O9E",
        "outputId": "00e050ac-8da2-43e9-8024-41711d54025b"
      },
      "execution_count": 64,
      "outputs": [
        {
          "output_type": "execute_result",
          "data": {
            "text/plain": [
              "(2947, 561)"
            ]
          },
          "metadata": {},
          "execution_count": 64
        }
      ]
    },
    {
      "cell_type": "code",
      "source": [
        "#create the parameter grid based on the results of random search\n",
        "params_grid = [{'kernel':['rbf'], 'gamma':[1e-3, 1e-4], 'C':[1,10,100,1000]}, {'kernel':['linear'], 'C':[1,10,100,1000]}]\n"
      ],
      "metadata": {
        "id": "ZerDzeSB-L_9"
      },
      "execution_count": 65,
      "outputs": []
    },
    {
      "cell_type": "code",
      "source": [
        "svm_model = GridSearchCV(SVC(), params_grid, cv = 5)\n"
      ],
      "metadata": {
        "id": "QjRkGY90-v4s"
      },
      "execution_count": 66,
      "outputs": []
    },
    {
      "cell_type": "code",
      "source": [
        "svm_model"
      ],
      "metadata": {
        "colab": {
          "base_uri": "https://localhost:8080/"
        },
        "id": "0KkqcHJO_bqo",
        "outputId": "58b59bcb-b237-41a5-b51d-a8586d1ec9dc"
      },
      "execution_count": 67,
      "outputs": [
        {
          "output_type": "execute_result",
          "data": {
            "text/plain": [
              "GridSearchCV(cv=5, estimator=SVC(),\n",
              "             param_grid=[{'C': [1, 10, 100, 1000], 'gamma': [0.001, 0.0001],\n",
              "                          'kernel': ['rbf']},\n",
              "                         {'C': [1, 10, 100, 1000], 'kernel': ['linear']}])"
            ]
          },
          "metadata": {},
          "execution_count": 67
        }
      ]
    },
    {
      "cell_type": "code",
      "source": [
        "svm_model.fit(X_trian_scaled, Y_train)"
      ],
      "metadata": {
        "colab": {
          "base_uri": "https://localhost:8080/"
        },
        "id": "nXyhoT3k_fgY",
        "outputId": "066f1a5a-a5ae-48e6-b9ca-d9a1403c7720"
      },
      "execution_count": 68,
      "outputs": [
        {
          "output_type": "execute_result",
          "data": {
            "text/plain": [
              "GridSearchCV(cv=5, estimator=SVC(),\n",
              "             param_grid=[{'C': [1, 10, 100, 1000], 'gamma': [0.001, 0.0001],\n",
              "                          'kernel': ['rbf']},\n",
              "                         {'C': [1, 10, 100, 1000], 'kernel': ['linear']}])"
            ]
          },
          "metadata": {},
          "execution_count": 68
        }
      ]
    },
    {
      "cell_type": "code",
      "source": [
        "print(\"Best score for training data:\", svm_model.best_score_)"
      ],
      "metadata": {
        "colab": {
          "base_uri": "https://localhost:8080/"
        },
        "id": "ScR0NzykAmWK",
        "outputId": "cd839345-96a5-41e8-90b7-d348a9c8863b"
      },
      "execution_count": 69,
      "outputs": [
        {
          "output_type": "stream",
          "name": "stdout",
          "text": [
            "Best score for training data: 0.938255432696532\n"
          ]
        }
      ]
    },
    {
      "cell_type": "code",
      "source": [
        "print('Best C:', svm_model.best_estimator_.C)"
      ],
      "metadata": {
        "colab": {
          "base_uri": "https://localhost:8080/"
        },
        "id": "-9boFE2FAxhN",
        "outputId": "471852ea-545f-49f4-afeb-a888f33c2faf"
      },
      "execution_count": 70,
      "outputs": [
        {
          "output_type": "stream",
          "name": "stdout",
          "text": [
            "Best C: 1000\n"
          ]
        }
      ]
    },
    {
      "cell_type": "code",
      "source": [
        "print('Best Gamma:', svm_model.best_estimator_.gamma)"
      ],
      "metadata": {
        "colab": {
          "base_uri": "https://localhost:8080/"
        },
        "id": "VToh9uMXA5ia",
        "outputId": "a151a480-dac4-473a-f2e1-7296a2aae1f3"
      },
      "execution_count": 71,
      "outputs": [
        {
          "output_type": "stream",
          "name": "stdout",
          "text": [
            "Best Gamma: 0.0001\n"
          ]
        }
      ]
    },
    {
      "cell_type": "code",
      "source": [
        "final_model = svm_model.best_estimator_\n"
      ],
      "metadata": {
        "id": "LVjoSlzBBCSI"
      },
      "execution_count": 72,
      "outputs": []
    },
    {
      "cell_type": "code",
      "source": [
        "final_model"
      ],
      "metadata": {
        "colab": {
          "base_uri": "https://localhost:8080/"
        },
        "id": "0kwGxT1VBJSH",
        "outputId": "b113b1e4-5d3d-4dbd-fee9-22b6d96dc2b7"
      },
      "execution_count": 73,
      "outputs": [
        {
          "output_type": "execute_result",
          "data": {
            "text/plain": [
              "SVC(C=1000, gamma=0.0001)"
            ]
          },
          "metadata": {},
          "execution_count": 73
        }
      ]
    },
    {
      "cell_type": "code",
      "source": [
        "Y_pred = final_model.predict(X_test_scaled)"
      ],
      "metadata": {
        "id": "3swIh5duBKpm"
      },
      "execution_count": 74,
      "outputs": []
    },
    {
      "cell_type": "code",
      "source": [
        "Y_pred"
      ],
      "metadata": {
        "colab": {
          "base_uri": "https://localhost:8080/"
        },
        "id": "15pDdPvCBQWW",
        "outputId": "c9c7816c-6ead-4358-956c-414266aea6d0"
      },
      "execution_count": 75,
      "outputs": [
        {
          "output_type": "execute_result",
          "data": {
            "text/plain": [
              "array([2, 2, 2, ..., 5, 5, 5])"
            ]
          },
          "metadata": {},
          "execution_count": 75
        }
      ]
    },
    {
      "cell_type": "code",
      "source": [
        "Y_pred_label = list(encoder.inverse_transform(Y_pred))"
      ],
      "metadata": {
        "id": "-MfqTryVBSmp"
      },
      "execution_count": 76,
      "outputs": []
    },
    {
      "cell_type": "code",
      "source": [
        "#Y_pred_label"
      ],
      "metadata": {
        "id": "iUThWa13BZbq"
      },
      "execution_count": 78,
      "outputs": []
    },
    {
      "cell_type": "code",
      "source": [
        "#making the confusion matrix\n",
        "print('Confusion Matrix:\\n', confusion_matrix(Y_test_label, Y_pred_label))"
      ],
      "metadata": {
        "colab": {
          "base_uri": "https://localhost:8080/"
        },
        "id": "WytfWuNvBiS7",
        "outputId": "494590be-d544-415b-d7cb-1e36ccf66604"
      },
      "execution_count": 83,
      "outputs": [
        {
          "output_type": "stream",
          "name": "stdout",
          "text": [
            "Confusion Matrix:\n",
            " [[537   0   0   0   0   0]\n",
            " [  1 446  43   0   0   1]\n",
            " [  0  20 512   0   0   0]\n",
            " [  0   0   0 485   5   6]\n",
            " [  0   0   0   1 405  14]\n",
            " [  0   0   0   8   4 459]]\n"
          ]
        }
      ]
    },
    {
      "cell_type": "code",
      "source": [
        "print('Classification Report: \\n', classification_report(Y_test_label, Y_pred_label))"
      ],
      "metadata": {
        "colab": {
          "base_uri": "https://localhost:8080/"
        },
        "id": "nAEYiNUPCWHX",
        "outputId": "38183130-d5f6-4da9-eaa8-8d983456c6b1"
      },
      "execution_count": 84,
      "outputs": [
        {
          "output_type": "stream",
          "name": "stdout",
          "text": [
            "Classification Report: \n",
            "                     precision    recall  f1-score   support\n",
            "\n",
            "            LAYING       1.00      1.00      1.00       537\n",
            "           SITTING       0.96      0.91      0.93       491\n",
            "          STANDING       0.92      0.96      0.94       532\n",
            "           WALKING       0.98      0.98      0.98       496\n",
            "WALKING_DOWNSTAIRS       0.98      0.96      0.97       420\n",
            "  WALKING_UPSTAIRS       0.96      0.97      0.97       471\n",
            "\n",
            "          accuracy                           0.97      2947\n",
            "         macro avg       0.97      0.96      0.96      2947\n",
            "      weighted avg       0.97      0.97      0.97      2947\n",
            "\n"
          ]
        }
      ]
    },
    {
      "cell_type": "code",
      "source": [
        "print('Trianing set score for SVM: %f' % final_model.score(X_trian_scaled, Y_train))"
      ],
      "metadata": {
        "colab": {
          "base_uri": "https://localhost:8080/"
        },
        "id": "ldGxDXs5Cjlz",
        "outputId": "73160c23-8473-4d78-c262-1e2a2a84ba2b"
      },
      "execution_count": 86,
      "outputs": [
        {
          "output_type": "stream",
          "name": "stdout",
          "text": [
            "Trianing set score for SVM: 0.996872\n"
          ]
        }
      ]
    },
    {
      "cell_type": "code",
      "source": [
        "print('Testing set score for SVM: %f' % final_model.score(X_test_scaled, Y_test))"
      ],
      "metadata": {
        "colab": {
          "base_uri": "https://localhost:8080/"
        },
        "id": "hopnHQ0kCzuU",
        "outputId": "ac98b4c1-ed0c-406d-93ba-71f2d38e0916"
      },
      "execution_count": 87,
      "outputs": [
        {
          "output_type": "stream",
          "name": "stdout",
          "text": [
            "Testing set score for SVM: 0.965049\n"
          ]
        }
      ]
    }
  ]
}